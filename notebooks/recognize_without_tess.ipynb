{
 "cells": [
  {
   "cell_type": "code",
   "execution_count": 641,
   "metadata": {},
   "outputs": [],
   "source": [
    "import argparse\n",
    "#from tesseract import image_to_string\n",
    "import os\n",
    "import pytesseract\n",
    "import collections\n",
    "import pandas as pd\n",
    "from PIL import Image\n",
    "import math\n",
    "import numpy as np\n",
    "from tqdm import tqdm_notebook as tqdm\n",
    "from pandas import DataFrame\n",
    "import imgaug.augmenters as iaa\n",
    "import cv2\n",
    "import matplotlib.pyplot as plt\n",
    "%matplotlib inline"
   ]
  },
  {
   "cell_type": "code",
   "execution_count": 407,
   "metadata": {},
   "outputs": [],
   "source": [
    "folder_tsv = \"/home/andreizoltan/vision/github/annotations/training/\"\n",
    "\n",
    "number_of_needed_labels = 0\n",
    "text_on_labels = list()\n",
    "labels_dict = dict()\n",
    "counter = collections.Counter()\n",
    "labels_with_data = set()\n",
    "def main():\n",
    "    global k2, success, number_of_needed_labels, text_on_labels, labels_dict\n",
    "    for folder in tqdm(os.listdir(folder_tsv)):\n",
    "        for file in os.listdir(folder_tsv + folder):\n",
    "            df = DataFrame.from_csv(folder_tsv + folder + \"/\" + file, sep='\\t')\n",
    "            for index, row in df.iterrows():\n",
    "                if isinstance(row[\"data\"], float) == False and row[\"data\"] != \"\":\n",
    "                    if not index in labels_dict:\n",
    "                        labels_dict[index] = [row[\"data\"]]\n",
    "                    else:\n",
    "                        list_of_label = labels_dict[index]\n",
    "                        list_of_label.append(row[\"data\"])\n",
    "                        labels_dict[index] = list_of_label"
   ]
  },
  {
   "cell_type": "code",
   "execution_count": 408,
   "metadata": {},
   "outputs": [
    {
     "data": {
      "application/vnd.jupyter.widget-view+json": {
       "model_id": "2f731e7415874a9e80bf99b203c51566",
       "version_major": 2,
       "version_minor": 0
      },
      "text/plain": [
       "HBox(children=(IntProgress(value=0, max=17), HTML(value='')))"
      ]
     },
     "metadata": {},
     "output_type": "display_data"
    },
    {
     "name": "stderr",
     "output_type": "stream",
     "text": [
      "/home/andreizoltan/anaconda3/lib/python3.6/site-packages/ipykernel_launcher.py:12: FutureWarning: from_csv is deprecated. Please use read_csv(...) instead. Note that some of the default arguments are different, so please refer to the documentation for from_csv when changing your function calls\n",
      "  if sys.path[0] == '':\n"
     ]
    }
   ],
   "source": [
    "main()"
   ]
  },
  {
   "cell_type": "code",
   "execution_count": 409,
   "metadata": {},
   "outputs": [
    {
     "name": "stdout",
     "output_type": "stream",
     "text": [
      "{'8.2.1', '3.4', '6.10.2', '8.11', '8.2.6', '3.25', '5.32', '8.2.5', '8.4.1', '6.9.2', '8.1.4', '8.1.1', '8', '5.31', '8.5.4', '3.13', '6.13', '7.5', '8.2.2', '3.11', '6.9.1', '5.23.1', '1.13', '6.10.1', '6.11', '5.24.1', '3.24'}\n",
      "{'8.2.1': '400 м', '5.23.1': 'Заречье', '3.24': '20', '1.13': '6 %', '7.5': '200 м', '6.10.1': 'усадьба “Назарьево” “Nazarevo” estate', '8.1.1': '250 м', '3.13': '4,5 м', '6.9.2': 'М9 Псков М3 Калуга МКАД', '6.10.2': '53', '8.2.2': '70 м', '8.1.4': '50 м', '3.4': '3,5 т', '3.25': '80', '5.24.1': 'Ново-Ивановское', '6.13': '37 мосавтодор', '8.4.1': '12 т без пропуска', '8.5.4': '6.00 - 22.00', '8': 'Пропан', '6.9.1': 'МКАД Сколковское ш. 0.6 Ленинский пр-т 8.3', '8.2.5': '600 м', '5.31': '20', '5.32': '40', '6.11': 'р. Сетунь', '8.11': '12 т', '3.11': '5 т', '8.2.6': '50 м'}\n"
     ]
    }
   ],
   "source": [
    "labels_with_data = set()\n",
    "most_common = dict()\n",
    "for key in labels_dict.keys():\n",
    "    list_of_label = labels_dict[key]\n",
    "    counter = collections.Counter()\n",
    "    if isinstance(key, float) == True:\n",
    "        if math.isnan(key) == True:\n",
    "            continue\n",
    "        else:\n",
    "            labels_with_data.add(str(key))\n",
    "    elif isinstance(key, pandas._libs.tslibs.timestamps.Timestamp) == True:\n",
    "        continue\n",
    "    else:\n",
    "        labels_with_data.add(key)\n",
    "\n",
    "    for text in list_of_label:\n",
    "        counter[text] += 1\n",
    "    most_common[str(key)] = str(counter.most_common()[0][0])\n",
    "print(labels_with_data)\n",
    "print(most_common)"
   ]
  },
  {
   "cell_type": "code",
   "execution_count": 619,
   "metadata": {},
   "outputs": [],
   "source": [
    "def get_data(label):\n",
    "    label = str(label)\n",
    "    if label in labels_with_data:\n",
    "        return most_common[str(label)]\n",
    "    else:\n",
    "        return \"\""
   ]
  },
  {
   "cell_type": "code",
   "execution_count": 653,
   "metadata": {},
   "outputs": [],
   "source": [
    "def add_data(file):\n",
    "    df = pd.read_csv(file, sep='\\t', dtype=str)\n",
    "    df['data'] = df['class'].apply(get_data)\n",
    "    new_file = \"/home/andreizoltan/vision/github/icevision/icevision/annot_new.tsv\"\n",
    "    df.to_csv(new_file, sep='\\t', index=False)"
   ]
  },
  {
   "cell_type": "code",
   "execution_count": 654,
   "metadata": {},
   "outputs": [],
   "source": [
    "def check(df):\n",
    "    for index, row in df.iterrows():\n",
    "        if row['data'] != 0:\n",
    "            print(type(row['data']))"
   ]
  },
  {
   "cell_type": "code",
   "execution_count": 655,
   "metadata": {},
   "outputs": [],
   "source": [
    "file = \"/home/andreizoltan/vision/github/icevision/icevision/annot.tsv\"\n",
    "add_data(file)"
   ]
  },
  {
   "cell_type": "code",
   "execution_count": null,
   "metadata": {},
   "outputs": [],
   "source": []
  }
 ],
 "metadata": {
  "kernelspec": {
   "display_name": "Python 3",
   "language": "python",
   "name": "python3"
  },
  "language_info": {
   "codemirror_mode": {
    "name": "ipython",
    "version": 3
   },
   "file_extension": ".py",
   "mimetype": "text/x-python",
   "name": "python",
   "nbconvert_exporter": "python",
   "pygments_lexer": "ipython3",
   "version": "3.6.8"
  }
 },
 "nbformat": 4,
 "nbformat_minor": 2
}
