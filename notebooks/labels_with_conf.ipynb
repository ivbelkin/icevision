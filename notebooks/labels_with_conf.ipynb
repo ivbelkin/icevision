{
 "cells": [
  {
   "cell_type": "code",
   "execution_count": 5,
   "metadata": {},
   "outputs": [],
   "source": [
    "in_name = \"/home/serg/CV/Datasets/IceVision/icevision/icevision/rtsd_labels_new.txt\"\n",
    "out_name = \"/home/serg/CV/Datasets/IceVision/icevision/icevision/rtsd_labels_new_with_conf.txt\"\n",
    "with open(in_name) as in_f:\n",
    "    s = in_f.read().split(' ')\n",
    "    for i in range(len(s)):\n",
    "        s[i] = s[i] + \" @text=conf:1\"\n",
    "    with open(out_name, 'w') as out_f:\n",
    "        out_f.write(' '.join(s))"
   ]
  },
  {
   "cell_type": "code",
   "execution_count": null,
   "metadata": {},
   "outputs": [],
   "source": []
  }
 ],
 "metadata": {
  "kernelspec": {
   "display_name": "Python 3",
   "language": "python",
   "name": "python3"
  },
  "language_info": {
   "codemirror_mode": {
    "name": "ipython",
    "version": 3
   },
   "file_extension": ".py",
   "mimetype": "text/x-python",
   "name": "python",
   "nbconvert_exporter": "python",
   "pygments_lexer": "ipython3",
   "version": "3.7.1"
  },
  "latex_envs": {
   "LaTeX_envs_menu_present": true,
   "autoclose": false,
   "autocomplete": true,
   "bibliofile": "biblio.bib",
   "cite_by": "apalike",
   "current_citInitial": 1,
   "eqLabelWithNumbers": true,
   "eqNumInitial": 1,
   "hotkeys": {
    "equation": "Ctrl-E",
    "itemize": "Ctrl-I"
   },
   "labels_anchors": false,
   "latex_user_defs": false,
   "report_style_numbering": false,
   "user_envs_cfg": false
  }
 },
 "nbformat": 4,
 "nbformat_minor": 2
}
